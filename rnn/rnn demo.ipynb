{
 "cells": [
  {
   "cell_type": "code",
   "execution_count": 1,
   "metadata": {},
   "outputs": [],
   "source": [
    "import numpy as np\n",
    "import tensorflow as tf\n",
    "%matplotlib inline\n",
    "import matplotlib.pyplot as plt"
   ]
  },
  {
   "cell_type": "code",
   "execution_count": 2,
   "metadata": {},
   "outputs": [],
   "source": [
    "# Global config variables\n",
    "num_steps = 10 # number of truncated backprop steps ('n' in the discussion above)\n",
    "batch_size = 200\n",
    "num_classes = 2\n",
    "state_size = 4\n",
    "learning_rate = 0.1"
   ]
  },
  {
   "cell_type": "code",
   "execution_count": 3,
   "metadata": {},
   "outputs": [],
   "source": [
    "def gen_data(size=10000000):\n",
    "    X = np.array(np.random.choice(2, size=(size,)))\n",
    "    Y = []\n",
    "    for i in range(size):\n",
    "        threshold = 0.5\n",
    "        if X[i-3] == 1:\n",
    "            threshold += 0.5\n",
    "        if X[i-8] == 1:\n",
    "            threshold -= 0.25\n",
    "        if np.random.rand() > threshold:\n",
    "            Y.append(0)\n",
    "        else:\n",
    "            Y.append(1)\n",
    "    return X, np.array(Y)\n",
    "\n",
    "# adapted from https://github.com/tensorflow/tensorflow/blob/master/tensorflow/models/rnn/ptb/reader.py\n",
    "def gen_batch(raw_data, batch_size, num_steps):\n",
    "    raw_x, raw_y = raw_data\n",
    "    data_length = len(raw_x)\n",
    "\n",
    "    # partition raw data into batches and stack them vertically in a data matrix\n",
    "    batch_partition_length = data_length // batch_size\n",
    "    data_x = np.zeros([batch_size, batch_partition_length], dtype=np.int32)\n",
    "    data_y = np.zeros([batch_size, batch_partition_length], dtype=np.int32)\n",
    "    for i in range(batch_size):\n",
    "        data_x[i] = raw_x[batch_partition_length * i:batch_partition_length * (i + 1)]\n",
    "        data_y[i] = raw_y[batch_partition_length * i:batch_partition_length * (i + 1)]\n",
    "    # further divide batch partitions into num_steps for truncated backprop\n",
    "    epoch_size = batch_partition_length // num_steps\n",
    "\n",
    "    for i in range(epoch_size):\n",
    "        x = data_x[:, i * num_steps:(i + 1) * num_steps]\n",
    "        y = data_y[:, i * num_steps:(i + 1) * num_steps]\n",
    "        yield (x, y)\n",
    "\n",
    "def gen_epochs(n, num_steps):\n",
    "    for i in range(n):\n",
    "        yield gen_batch(gen_data(), batch_size, num_steps)"
   ]
  },
  {
   "cell_type": "code",
   "execution_count": 4,
   "metadata": {},
   "outputs": [],
   "source": [
    "\"\"\"\n",
    "Placeholders\n",
    "\"\"\"\n",
    "\n",
    "x = tf.placeholder(tf.int32, [batch_size, num_steps], name='input_placeholder')\n",
    "y = tf.placeholder(tf.int32, [batch_size, num_steps], name='labels_placeholder')\n",
    "init_state = tf.zeros([batch_size, state_size])\n",
    "\n",
    "\"\"\"\n",
    "RNN Inputs\n",
    "\"\"\"\n",
    "\n",
    "# Turn our x placeholder into a list of one-hot tensors:\n",
    "# rnn_inputs is a list of num_steps tensors with shape [batch_size, num_classes]\n",
    "x_one_hot = tf.one_hot(x, num_classes)\n",
    "rnn_inputs = tf.unstack(x_one_hot, axis=1)\n"
   ]
  },
  {
   "cell_type": "code",
   "execution_count": 5,
   "metadata": {},
   "outputs": [
    {
     "data": {
      "text/plain": [
       "[<tf.Tensor 'unstack:0' shape=(200, 2) dtype=float32>,\n",
       " <tf.Tensor 'unstack:1' shape=(200, 2) dtype=float32>,\n",
       " <tf.Tensor 'unstack:2' shape=(200, 2) dtype=float32>,\n",
       " <tf.Tensor 'unstack:3' shape=(200, 2) dtype=float32>,\n",
       " <tf.Tensor 'unstack:4' shape=(200, 2) dtype=float32>,\n",
       " <tf.Tensor 'unstack:5' shape=(200, 2) dtype=float32>,\n",
       " <tf.Tensor 'unstack:6' shape=(200, 2) dtype=float32>,\n",
       " <tf.Tensor 'unstack:7' shape=(200, 2) dtype=float32>,\n",
       " <tf.Tensor 'unstack:8' shape=(200, 2) dtype=float32>,\n",
       " <tf.Tensor 'unstack:9' shape=(200, 2) dtype=float32>]"
      ]
     },
     "execution_count": 5,
     "metadata": {},
     "output_type": "execute_result"
    }
   ],
   "source": [
    "rnn_inputs"
   ]
  },
  {
   "cell_type": "code",
   "execution_count": 6,
   "metadata": {},
   "outputs": [
    {
     "data": {
      "text/plain": [
       "<tf.Tensor 'one_hot:0' shape=(200, 10, 2) dtype=float32>"
      ]
     },
     "execution_count": 6,
     "metadata": {},
     "output_type": "execute_result"
    }
   ],
   "source": [
    "x_one_hot"
   ]
  },
  {
   "cell_type": "code",
   "execution_count": 7,
   "metadata": {},
   "outputs": [],
   "source": [
    "with tf.variable_scope('rnn_cell'):\n",
    "    W = tf.get_variable('W', [num_classes + state_size, state_size])\n",
    "    b = tf.get_variable('b', [state_size], initializer=tf.constant_initializer(0.0))\n",
    "\n",
    "def rnn_cell(rnn_input, state):\n",
    "     return tf.tanh(tf.matmul(tf.concat([rnn_input, state], 1), W) + b)"
   ]
  },
  {
   "cell_type": "code",
   "execution_count": 8,
   "metadata": {},
   "outputs": [],
   "source": [
    "state = init_state\n",
    "rnn_outputs = []\n",
    "for rnn_input in rnn_inputs:\n",
    "    state = rnn_cell(rnn_input, state)\n",
    "    rnn_outputs.append(state)\n",
    "final_state = rnn_outputs[-1]"
   ]
  },
  {
   "cell_type": "code",
   "execution_count": 9,
   "metadata": {},
   "outputs": [],
   "source": [
    "with tf.variable_scope('softmax'):\n",
    "    W = tf.get_variable('W', [state_size, num_classes])\n",
    "    b = tf.get_variable('b', [num_classes], initializer=tf.constant_initializer(0.0))\n",
    "logits = [tf.matmul(rnn_output, W) + b for rnn_output in rnn_outputs]\n",
    "predictions = [tf.nn.softmax(logit) for logit in logits]\n",
    "\n"
   ]
  },
  {
   "cell_type": "code",
   "execution_count": 10,
   "metadata": {},
   "outputs": [],
   "source": [
    "y_as_list = tf.unstack(y, num=num_steps, axis=1)\n",
    "\n",
    "#losses and train_step\n",
    "losses = [tf.nn.sparse_softmax_cross_entropy_with_logits(labels=label, logits=logit) for \\\n",
    "          logit, label in zip(logits, y_as_list)]\n",
    "total_loss = tf.reduce_mean(losses)\n",
    "train_step = tf.train.AdagradOptimizer(learning_rate).minimize(total_loss)"
   ]
  },
  {
   "cell_type": "code",
   "execution_count": 11,
   "metadata": {},
   "outputs": [],
   "source": [
    "def train_network(num_epochs, num_steps, state_size=4, verbose=True):\n",
    "    with tf.Session() as sess:\n",
    "        sess.run(tf.global_variables_initializer())\n",
    "        training_losses = []\n",
    "        for idx, epoch in enumerate(gen_epochs(num_epochs, num_steps)):\n",
    "            training_loss = 0\n",
    "            training_state = np.zeros((batch_size, state_size))\n",
    "            if verbose:\n",
    "                print(\"\\nEPOCH\", idx)\n",
    "            for step, (X, Y) in enumerate(epoch):\n",
    "                tr_losses, training_loss_, training_state, _ = \\\n",
    "                    sess.run([losses,\n",
    "                              total_loss,\n",
    "                              final_state,\n",
    "                              train_step],\n",
    "                                  feed_dict={x:X, y:Y, init_state:training_state})\n",
    "                training_loss += training_loss_\n",
    "                if step % 100 == 0 and step > 0:\n",
    "                    if verbose:\n",
    "                        print(\"Average loss at step\", step,\n",
    "                              \"for last 250 steps:\", training_loss/100)\n",
    "                    training_losses.append(training_loss/100)\n",
    "                    training_loss = 0\n",
    "\n",
    "    return training_losses"
   ]
  },
  {
   "cell_type": "code",
   "execution_count": 12,
   "metadata": {},
   "outputs": [
    {
     "name": "stdout",
     "output_type": "stream",
     "text": [
      "('\\nEPOCH', 0)\n",
      "('Average loss at step', 100, 'for last 250 steps:', 0.6345799714326859)\n",
      "('Average loss at step', 200, 'for last 250 steps:', 0.6181924998760223)\n",
      "('Average loss at step', 300, 'for last 250 steps:', 0.578036373257637)\n",
      "('Average loss at step', 400, 'for last 250 steps:', 0.56263367831707)\n",
      "('Average loss at step', 500, 'for last 250 steps:', 0.5585931295156479)\n",
      "('Average loss at step', 600, 'for last 250 steps:', 0.5552406972646713)\n",
      "('Average loss at step', 700, 'for last 250 steps:', 0.5318690532445908)\n",
      "('Average loss at step', 800, 'for last 250 steps:', 0.5197407624125481)\n",
      "('Average loss at step', 900, 'for last 250 steps:', 0.5201387602090836)\n",
      "('Average loss at step', 1000, 'for last 250 steps:', 0.5195682537555695)\n",
      "('Average loss at step', 1100, 'for last 250 steps:', 0.5171463513374328)\n",
      "('Average loss at step', 1200, 'for last 250 steps:', 0.518247380554676)\n",
      "('Average loss at step', 1300, 'for last 250 steps:', 0.5141864150762558)\n",
      "('Average loss at step', 1400, 'for last 250 steps:', 0.5134176737070084)\n",
      "('Average loss at step', 1500, 'for last 250 steps:', 0.5137457007169723)\n",
      "('Average loss at step', 1600, 'for last 250 steps:', 0.5134075996279717)\n",
      "('Average loss at step', 1700, 'for last 250 steps:', 0.5132906135916709)\n",
      "('Average loss at step', 1800, 'for last 250 steps:', 0.5124973633885384)\n",
      "('Average loss at step', 1900, 'for last 250 steps:', 0.5120569530129433)\n",
      "('Average loss at step', 2000, 'for last 250 steps:', 0.5102386921644211)\n",
      "('Average loss at step', 2100, 'for last 250 steps:', 0.5122968336939812)\n",
      "('Average loss at step', 2200, 'for last 250 steps:', 0.5133229169249535)\n",
      "('Average loss at step', 2300, 'for last 250 steps:', 0.5126294973492622)\n",
      "('Average loss at step', 2400, 'for last 250 steps:', 0.511219200193882)\n",
      "('Average loss at step', 2500, 'for last 250 steps:', 0.5128359791636466)\n",
      "('Average loss at step', 2600, 'for last 250 steps:', 0.5118915694952011)\n",
      "('Average loss at step', 2700, 'for last 250 steps:', 0.5124779975414276)\n",
      "('Average loss at step', 2800, 'for last 250 steps:', 0.5121248707175254)\n",
      "('Average loss at step', 2900, 'for last 250 steps:', 0.5119733837246895)\n",
      "('Average loss at step', 3000, 'for last 250 steps:', 0.5108011129498482)\n",
      "('Average loss at step', 3100, 'for last 250 steps:', 0.5114825141429901)\n",
      "('Average loss at step', 3200, 'for last 250 steps:', 0.5100993323326111)\n",
      "('Average loss at step', 3300, 'for last 250 steps:', 0.5111513036489487)\n",
      "('Average loss at step', 3400, 'for last 250 steps:', 0.5120068389177322)\n",
      "('Average loss at step', 3500, 'for last 250 steps:', 0.5108745980262757)\n",
      "('Average loss at step', 3600, 'for last 250 steps:', 0.5114901560544968)\n",
      "('Average loss at step', 3700, 'for last 250 steps:', 0.5103642612695694)\n",
      "('Average loss at step', 3800, 'for last 250 steps:', 0.5105317994952202)\n",
      "('Average loss at step', 3900, 'for last 250 steps:', 0.5105709627270698)\n",
      "('Average loss at step', 4000, 'for last 250 steps:', 0.511049981713295)\n",
      "('Average loss at step', 4100, 'for last 250 steps:', 0.5108516836166381)\n",
      "('Average loss at step', 4200, 'for last 250 steps:', 0.5126524156332016)\n",
      "('Average loss at step', 4300, 'for last 250 steps:', 0.5109646618366241)\n",
      "('Average loss at step', 4400, 'for last 250 steps:', 0.5107187461853028)\n",
      "('Average loss at step', 4500, 'for last 250 steps:', 0.511099896132946)\n",
      "('Average loss at step', 4600, 'for last 250 steps:', 0.5108020347356796)\n",
      "('Average loss at step', 4700, 'for last 250 steps:', 0.5094276776909828)\n",
      "('Average loss at step', 4800, 'for last 250 steps:', 0.509258853495121)\n",
      "('Average loss at step', 4900, 'for last 250 steps:', 0.5129020881652832)\n"
     ]
    },
    {
     "data": {
      "text/plain": [
       "[<matplotlib.lines.Line2D at 0x104079990>]"
      ]
     },
     "execution_count": 12,
     "metadata": {},
     "output_type": "execute_result"
    },
    {
     "data": {
      "image/png": "[encoded data removed]",
      "text/plain": [
       "<Figure size 432x288 with 1 Axes>"
      ]
     },
     "metadata": {},
     "output_type": "display_data"
    }
   ],
   "source": [
    "training_losses = train_network(1,num_steps)\n",
    "plt.plot(training_losses)"
   ]
  },
  {
   "cell_type": "code",
   "execution_count": null,
   "metadata": {},
   "outputs": [],
   "source": []
  }
 ],
 "metadata": {
  "kernelspec": {
   "display_name": "Python 2",
   "language": "python",
   "name": "python2"
  },
  "language_info": {
   "codemirror_mode": {
    "name": "ipython",
    "version": 2
   },
   "file_extension": ".py",
   "mimetype": "text/x-python",
   "name": "python",
   "nbconvert_exporter": "python",
   "pygments_lexer": "ipython2",
   "version": "2.7.10"
  }
 },
 "nbformat": 4,
 "nbformat_minor": 2
}
