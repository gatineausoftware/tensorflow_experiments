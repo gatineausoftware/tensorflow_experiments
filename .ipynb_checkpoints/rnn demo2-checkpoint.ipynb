{
 "cells": [
  {
   "cell_type": "code",
   "execution_count": 1,
   "metadata": {},
   "outputs": [],
   "source": [
    "import numpy as np\n",
    "import tensorflow as tf\n",
    "%matplotlib inline\n",
    "import matplotlib.pyplot as plt"
   ]
  },
  {
   "cell_type": "code",
   "execution_count": 2,
   "metadata": {},
   "outputs": [],
   "source": [
    "# Global config variables\n",
    "num_steps = 10 # number of truncated backprop steps ('n' in the discussion above)\n",
    "batch_size = 20\n",
    "num_classes = 2\n",
    "state_size = 4\n",
    "learning_rate = 0.1"
   ]
  },
  {
   "cell_type": "code",
   "execution_count": 3,
   "metadata": {},
   "outputs": [],
   "source": [
    "def gen_data(size=1000000):\n",
    "    X = np.array(np.random.choice(2, size=(size,)))\n",
    "    Y = []\n",
    "    for i in range(size):\n",
    "        threshold = 0.5\n",
    "        if X[i-3] == 1:\n",
    "            threshold += 0.5\n",
    "        if X[i-8] == 1:\n",
    "            threshold -= 0.25\n",
    "        if np.random.rand() > threshold:\n",
    "            Y.append(0)\n",
    "        else:\n",
    "            Y.append(1)\n",
    "    return X, np.array(Y)\n",
    "\n",
    "# adapted from https://github.com/tensorflow/tensorflow/blob/master/tensorflow/models/rnn/ptb/reader.py\n",
    "def gen_batch(raw_data, batch_size, num_steps):\n",
    "    raw_x, raw_y = raw_data\n",
    "    data_length = len(raw_x)\n",
    "\n",
    "    # partition raw data into batches and stack them vertically in a data matrix\n",
    "    batch_partition_length = data_length // batch_size\n",
    "    data_x = np.zeros([batch_size, batch_partition_length], dtype=np.int32)\n",
    "    data_y = np.zeros([batch_size, batch_partition_length], dtype=np.int32)\n",
    "    for i in range(batch_size):\n",
    "        data_x[i] = raw_x[batch_partition_length * i:batch_partition_length * (i + 1)]\n",
    "        data_y[i] = raw_y[batch_partition_length * i:batch_partition_length * (i + 1)]\n",
    "    # further divide batch partitions into num_steps for truncated backprop\n",
    "    epoch_size = batch_partition_length // num_steps\n",
    "\n",
    "    for i in range(epoch_size):\n",
    "        x = data_x[:, i * num_steps:(i + 1) * num_steps]\n",
    "        y = data_y[:, i * num_steps:(i + 1) * num_steps]\n",
    "        yield (x, y)\n",
    "\n",
    "def gen_epochs(n, num_steps):\n",
    "    for i in range(n):\n",
    "        yield gen_batch(gen_data(), batch_size, num_steps)"
   ]
  },
  {
   "cell_type": "code",
   "execution_count": 16,
   "metadata": {},
   "outputs": [
    {
     "data": {
      "text/plain": [
       "array([[1, 1, 0, 1],\n",
       "       [1, 0, 1, 0],\n",
       "       [0, 0, 1, 0],\n",
       "       [1, 0, 0, 0],\n",
       "       [1, 0, 1, 0],\n",
       "       [1, 1, 0, 0],\n",
       "       [0, 1, 1, 0],\n",
       "       [1, 0, 0, 0],\n",
       "       [0, 0, 1, 1],\n",
       "       [1, 0, 0, 0],\n",
       "       [0, 0, 0, 0],\n",
       "       [0, 1, 0, 0],\n",
       "       [0, 1, 0, 0],\n",
       "       [0, 0, 0, 1],\n",
       "       [0, 1, 0, 0],\n",
       "       [1, 1, 0, 0],\n",
       "       [1, 1, 0, 0],\n",
       "       [0, 0, 0, 1],\n",
       "       [0, 1, 1, 0],\n",
       "       [0, 0, 1, 1]], dtype=int32)"
      ]
     },
     "execution_count": 16,
     "metadata": {},
     "output_type": "execute_result"
    }
   ],
   "source": [
    "blah = gen_epochs(10, 4).next()\n",
    "x, y = blah.next()\n",
    "x"
   ]
  },
  {
   "cell_type": "code",
   "execution_count": 18,
   "metadata": {},
   "outputs": [
    {
     "name": "stdout",
     "output_type": "stream",
     "text": [
      "(20, 10, 2)\n",
      "(20, 2)\n"
     ]
    }
   ],
   "source": [
    "\"\"\"\n",
    "Placeholders\n",
    "\"\"\"\n",
    "\n",
    "x = tf.placeholder(tf.int32, [batch_size, num_steps], name='input_placeholder')\n",
    "y = tf.placeholder(tf.int32, [batch_size, num_steps], name='labels_placeholder')\n",
    "init_state = tf.zeros([batch_size, state_size])\n",
    "\n",
    "\"\"\"\n",
    "RNN Inputs\n",
    "\"\"\"\n",
    "\n",
    "\n",
    "x_one_hot = tf.one_hot(x, num_classes)\n",
    "\n",
    "# x_one_hot is [batch_size, num_steps, num_classes], but matrix operation in rnn layer needs to work with\n",
    "# a single time step across all batches, so unstack rnn_intputs to give a num_steps long list of [batch_size, num_classes] tensors\n",
    "rnn_inputs = tf.unstack(x_one_hot, axis=1)\n",
    "\n",
    "print x_one_hot.shape\n",
    "print rnn_inputs[0].shape"
   ]
  },
  {
   "cell_type": "code",
   "execution_count": 5,
   "metadata": {},
   "outputs": [
    {
     "name": "stdout",
     "output_type": "stream",
     "text": [
      "WARNING:tensorflow:From /Users/bm255022/virtualenvs/tensorflow27/lib/python2.7/site-packages/tensorflow/contrib/learn/python/learn/datasets/base.py:198: retry (from tensorflow.contrib.learn.python.learn.datasets.base) is deprecated and will be removed in a future version.\n",
      "Instructions for updating:\n",
      "Use the retry module or similar alternatives.\n"
     ]
    }
   ],
   "source": [
    "cell = tf.contrib.rnn.BasicRNNCell(state_size)\n",
    "#rnn_outputs, final_state = tf.contrib.rnn.static_rnn(cell, rnn_inputs, initial_state=init_state)\n",
    "rnn_outputs, final_state = tf.nn.static_rnn(cell, rnn_inputs, initial_state=init_state)"
   ]
  },
  {
   "cell_type": "code",
   "execution_count": 6,
   "metadata": {},
   "outputs": [],
   "source": [
    "with tf.variable_scope('softmax'):\n",
    "    W = tf.get_variable('W', [state_size, num_classes])\n",
    "    b = tf.get_variable('b', [num_classes], initializer=tf.constant_initializer(0.0))\n",
    "logits = [tf.matmul(rnn_output, W) + b for rnn_output in rnn_outputs]\n",
    "predictions = [tf.nn.softmax(logit) for logit in logits]\n",
    "\n"
   ]
  },
  {
   "cell_type": "code",
   "execution_count": 7,
   "metadata": {},
   "outputs": [],
   "source": [
    "y_as_list = tf.unstack(y, num=num_steps, axis=1)\n",
    "\n",
    "#losses and train_step\n",
    "losses = [tf.nn.sparse_softmax_cross_entropy_with_logits(labels=label, logits=logit) for \\\n",
    "          logit, label in zip(logits, y_as_list)]\n",
    "total_loss = tf.reduce_mean(losses)\n",
    "train_step = tf.train.AdagradOptimizer(learning_rate).minimize(total_loss)"
   ]
  },
  {
   "cell_type": "code",
   "execution_count": 9,
   "metadata": {},
   "outputs": [],
   "source": [
    "def train_network(num_epochs, num_steps, state_size=4, verbose=True):\n",
    "    with tf.Session() as sess:\n",
    "        sess.run(tf.global_variables_initializer())\n",
    "        training_losses = []\n",
    "        for idx, epoch in enumerate(gen_epochs(num_epochs, num_steps)):\n",
    "            training_loss = 0\n",
    "            training_state = np.zeros((batch_size, state_size))\n",
    "            if verbose:\n",
    "                print(\"\\nEPOCH\", idx)\n",
    "            for step, (X, Y) in enumerate(epoch):\n",
    "                tr_losses, training_loss_, training_state, _ = \\\n",
    "                    sess.run([losses,\n",
    "                              total_loss,\n",
    "                              final_state,\n",
    "                              train_step],\n",
    "                                  feed_dict={x:X, y:Y, init_state:training_state})\n",
    "                training_loss += training_loss_\n",
    "                if step % 100 == 0 and step > 0:\n",
    "                    if verbose:\n",
    "                        print(\"Average loss at step\", step,\n",
    "                              \"for last 250 steps:\", training_loss/100)\n",
    "                    training_losses.append(training_loss/100)\n",
    "                    training_loss = 0\n",
    "\n",
    "    return training_losses"
   ]
  },
  {
   "cell_type": "code",
   "execution_count": 10,
   "metadata": {},
   "outputs": [
    {
     "name": "stdout",
     "output_type": "stream",
     "text": [
      "('\\nEPOCH', 0)\n",
      "('Average loss at step', 100, 'for last 250 steps:', 0.6521033775806427)\n",
      "('Average loss at step', 200, 'for last 250 steps:', 0.5927761471271515)\n",
      "('Average loss at step', 300, 'for last 250 steps:', 0.5217139956355095)\n",
      "('Average loss at step', 400, 'for last 250 steps:', 0.523674039542675)\n",
      "('Average loss at step', 500, 'for last 250 steps:', 0.5249715039134025)\n",
      "('Average loss at step', 600, 'for last 250 steps:', 0.5192299562692643)\n",
      "('Average loss at step', 700, 'for last 250 steps:', 0.5188224685192108)\n",
      "('Average loss at step', 800, 'for last 250 steps:', 0.5225586161017418)\n",
      "('Average loss at step', 900, 'for last 250 steps:', 0.5187200790643692)\n",
      "('Average loss at step', 1000, 'for last 250 steps:', 0.5127033102512359)\n",
      "('Average loss at step', 1100, 'for last 250 steps:', 0.5210160273313522)\n",
      "('Average loss at step', 1200, 'for last 250 steps:', 0.515745347738266)\n",
      "('Average loss at step', 1300, 'for last 250 steps:', 0.5157330104708672)\n",
      "('Average loss at step', 1400, 'for last 250 steps:', 0.5099126932024955)\n",
      "('Average loss at step', 1500, 'for last 250 steps:', 0.5141402763128281)\n",
      "('Average loss at step', 1600, 'for last 250 steps:', 0.5195384302735329)\n",
      "('Average loss at step', 1700, 'for last 250 steps:', 0.5103604769706727)\n",
      "('Average loss at step', 1800, 'for last 250 steps:', 0.5117639282345772)\n",
      "('Average loss at step', 1900, 'for last 250 steps:', 0.5171417474746705)\n",
      "('Average loss at step', 2000, 'for last 250 steps:', 0.5103660190105438)\n",
      "('Average loss at step', 2100, 'for last 250 steps:', 0.5126530048251152)\n",
      "('Average loss at step', 2200, 'for last 250 steps:', 0.5165487784147262)\n",
      "('Average loss at step', 2300, 'for last 250 steps:', 0.5163390475511551)\n",
      "('Average loss at step', 2400, 'for last 250 steps:', 0.5149842619895935)\n",
      "('Average loss at step', 2500, 'for last 250 steps:', 0.5154773989319801)\n",
      "('Average loss at step', 2600, 'for last 250 steps:', 0.514376827776432)\n",
      "('Average loss at step', 2700, 'for last 250 steps:', 0.5135587230324745)\n",
      "('Average loss at step', 2800, 'for last 250 steps:', 0.5164259126782418)\n",
      "('Average loss at step', 2900, 'for last 250 steps:', 0.5118541958928108)\n",
      "('Average loss at step', 3000, 'for last 250 steps:', 0.5186935722827911)\n",
      "('Average loss at step', 3100, 'for last 250 steps:', 0.5075849902629852)\n",
      "('Average loss at step', 3200, 'for last 250 steps:', 0.5157739779353142)\n",
      "('Average loss at step', 3300, 'for last 250 steps:', 0.5132039093971252)\n",
      "('Average loss at step', 3400, 'for last 250 steps:', 0.5103101846575737)\n",
      "('Average loss at step', 3500, 'for last 250 steps:', 0.5152927470207215)\n",
      "('Average loss at step', 3600, 'for last 250 steps:', 0.5093586245179176)\n",
      "('Average loss at step', 3700, 'for last 250 steps:', 0.518574510216713)\n",
      "('Average loss at step', 3800, 'for last 250 steps:', 0.5108775117993355)\n",
      "('Average loss at step', 3900, 'for last 250 steps:', 0.5092216831445694)\n",
      "('Average loss at step', 4000, 'for last 250 steps:', 0.5173964768648147)\n",
      "('Average loss at step', 4100, 'for last 250 steps:', 0.5131259745359421)\n",
      "('Average loss at step', 4200, 'for last 250 steps:', 0.522427117228508)\n",
      "('Average loss at step', 4300, 'for last 250 steps:', 0.5156205821037293)\n",
      "('Average loss at step', 4400, 'for last 250 steps:', 0.5165801414847374)\n",
      "('Average loss at step', 4500, 'for last 250 steps:', 0.513095144033432)\n",
      "('Average loss at step', 4600, 'for last 250 steps:', 0.5132624465227127)\n",
      "('Average loss at step', 4700, 'for last 250 steps:', 0.5090177410840988)\n",
      "('Average loss at step', 4800, 'for last 250 steps:', 0.5105684122443199)\n",
      "('Average loss at step', 4900, 'for last 250 steps:', 0.512308899462223)\n"
     ]
    },
    {
     "data": {
      "text/plain": [
       "[<matplotlib.lines.Line2D at 0x112c42e50>]"
      ]
     },
     "execution_count": 10,
     "metadata": {},
     "output_type": "execute_result"
    },
    {
     "data": {
      "image/png": "[encoded data removed]",
      "text/plain": [
       "<Figure size 432x288 with 1 Axes>"
      ]
     },
     "metadata": {},
     "output_type": "display_data"
    }
   ],
   "source": [
    "training_losses = train_network(1,num_steps)\n",
    "plt.plot(training_losses)"
   ]
  },
  {
   "cell_type": "code",
   "execution_count": null,
   "metadata": {},
   "outputs": [],
   "source": []
  }
 ],
 "metadata": {
  "kernelspec": {
   "display_name": "Python 2",
   "language": "python",
   "name": "python2"
  },
  "language_info": {
   "codemirror_mode": {
    "name": "ipython",
    "version": 2
   },
   "file_extension": ".py",
   "mimetype": "text/x-python",
   "name": "python",
   "nbconvert_exporter": "python",
   "pygments_lexer": "ipython2",
   "version": "2.7.10"
  }
 },
 "nbformat": 4,
 "nbformat_minor": 2
}
